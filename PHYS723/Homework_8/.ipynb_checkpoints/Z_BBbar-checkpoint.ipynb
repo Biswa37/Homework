{
 "cells": [
  {
   "cell_type": "code",
   "execution_count": null,
   "metadata": {
    "collapsed": false
   },
   "outputs": [],
   "source": [
    "%matplotlib inline\n",
    "%config InlineBackend.figure_format = 'retina'\n",
    "import numpy as np\n",
    "import matplotlib.pyplot as plt\n",
    "import pandas as pd\n",
    "from pandas.tools.plotting import scatter_matrix\n",
    "from scipy.optimize import curve_fit\n",
    "from ROOT import TLorentzVector\n",
    "\n",
    "Zs = pd.read_csv('Z_BBbar.csv')"
   ]
  },
  {
   "cell_type": "code",
   "execution_count": null,
   "metadata": {
    "collapsed": false
   },
   "outputs": [],
   "source": [
    "Zs['PX'] = Zs.px1 + Zs.px2\n",
    "Zs['PY'] = Zs.py1 + Zs.py2\n",
    "Zs['PZ'] = Zs.pz1 + Zs.pz2\n",
    "Zs['P'] = np.sqrt(Zs.PX**2 + Zs.PY**2 + Zs.PZ**2)\n",
    "Zs['E'] = Zs.e1 + Zs.e2\n",
    "Zs['M'] = np.sqrt(Zs.E**2 - Zs.P**2)\n",
    "\n",
    "fig = plt.figure(num=None, figsize=(16,9), dpi=200, facecolor='w', edgecolor='k')\n",
    "Zs.M.hist(bins=100,histtype=u'stepfilled')\n",
    "plt.show()"
   ]
  },
  {
   "cell_type": "code",
   "execution_count": null,
   "metadata": {
    "collapsed": false
   },
   "outputs": [],
   "source": [
    "Zs.head(5)"
   ]
  },
  {
   "cell_type": "code",
   "execution_count": null,
   "metadata": {
    "collapsed": false
   },
   "outputs": [],
   "source": [
    "p = TLorentzVector()\n",
    "p1 = TLorentzVector()\n",
    "p2 = TLorentzVector()\n",
    "p1.SetPxPyPzE(Zs.px1[4],Zs.py1[4],Zs.pz1[4],Zs.e1[4])\n",
    "p2.SetPxPyPzE(Zs.px2[4],Zs.py2[4],Zs.pz2[4],Zs.e2[4])\n",
    "p = p1 + p2"
   ]
  },
  {
   "cell_type": "code",
   "execution_count": null,
   "metadata": {
    "collapsed": false
   },
   "outputs": [],
   "source": [
    "Zs.M2 = Zs.E - Zs.M"
   ]
  },
  {
   "cell_type": "code",
   "execution_count": null,
   "metadata": {
    "collapsed": false
   },
   "outputs": [],
   "source": [
    "Zs.M2.hist(bins=100,histtype=u'stepfilled',log =True)"
   ]
  },
  {
   "cell_type": "code",
   "execution_count": null,
   "metadata": {
    "collapsed": true
   },
   "outputs": [],
   "source": []
  }
 ],
 "metadata": {
  "kernelspec": {
   "display_name": "Python 2",
   "language": "python",
   "name": "python2"
  },
  "language_info": {
   "codemirror_mode": {
    "name": "ipython",
    "version": 2
   },
   "file_extension": ".py",
   "mimetype": "text/x-python",
   "name": "python",
   "nbconvert_exporter": "python",
   "pygments_lexer": "ipython2",
   "version": "2.7.11"
  }
 },
 "nbformat": 4,
 "nbformat_minor": 0
}
